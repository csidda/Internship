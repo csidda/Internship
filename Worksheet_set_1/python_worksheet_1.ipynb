{
 "cells": [
  {
   "cell_type": "markdown",
   "id": "aa1c758b",
   "metadata": {},
   "source": [
    "# Python worksheet - 1 "
   ]
  },
  {
   "cell_type": "markdown",
   "id": "ca40a9fe",
   "metadata": {},
   "source": [
    "1. C) %"
   ]
  },
  {
   "cell_type": "markdown",
   "id": "1e2dd419",
   "metadata": {},
   "source": [
    "2. B) 0"
   ]
  },
  {
   "cell_type": "markdown",
   "id": "00e0fa99",
   "metadata": {},
   "source": [
    "3. C) 24"
   ]
  },
  {
   "cell_type": "markdown",
   "id": "3342c7b3",
   "metadata": {},
   "source": [
    "4. A) 2"
   ]
  },
  {
   "cell_type": "markdown",
   "id": "8602764f",
   "metadata": {},
   "source": [
    "5. D) 6"
   ]
  },
  {
   "cell_type": "markdown",
   "id": "f7b499fd",
   "metadata": {},
   "source": [
    "6. C) The finally block will be executed no matter if the try block raises an error or not."
   ]
  },
  {
   "cell_type": "markdown",
   "id": "0869eb7c",
   "metadata": {},
   "source": [
    "7. A) It is used to raise an exception"
   ]
  },
  {
   "cell_type": "markdown",
   "id": "714631aa",
   "metadata": {},
   "source": [
    "8. C) In defining a generator "
   ]
  },
  {
   "cell_type": "markdown",
   "id": "4ec3cffa",
   "metadata": {},
   "source": [
    "9. Both A) and C) are correct"
   ]
  },
  {
   "cell_type": "markdown",
   "id": "9113444e",
   "metadata": {},
   "source": [
    "10. Both A) and B) are correct"
   ]
  },
  {
   "cell_type": "code",
   "execution_count": 1,
   "id": "614ed8db",
   "metadata": {},
   "outputs": [
    {
     "name": "stdout",
     "output_type": "stream",
     "text": [
      "Enter number to find factorial : 3\n",
      "6\n"
     ]
    }
   ],
   "source": [
    "#11.\n",
    "def factorial_number(n):\n",
    "    fact = 1\n",
    "    while n>1:\n",
    "        fact = fact*n\n",
    "        n = n-1\n",
    "    print(fact)\n",
    "n =int(input(\"Enter number to find factorial : \"))\n",
    "factorial_number(n)"
   ]
  },
  {
   "cell_type": "code",
   "execution_count": 7,
   "id": "e33dae0a",
   "metadata": {},
   "outputs": [
    {
     "name": "stdout",
     "output_type": "stream",
     "text": [
      "Enter a number : 3\n",
      "3 is prime number\n"
     ]
    }
   ],
   "source": [
    "#12\n",
    "def prime():\n",
    "    num = int(input(\"Enter a number : \"))\n",
    "    if num >1:\n",
    "        for i in range(2,num):\n",
    "            if num%i==0:\n",
    "                print(num,\"is not prime number\")\n",
    "                break\n",
    "        else:\n",
    "            print(num,\"is prime number\")\n",
    "    elif num==0 or num==1:\n",
    "        print(num,\"is neither prime nor composite number\")\n",
    "   \n",
    "        \n",
    "prime()"
   ]
  },
  {
   "cell_type": "code",
   "execution_count": 4,
   "id": "7ef22883",
   "metadata": {},
   "outputs": [
    {
     "name": "stdout",
     "output_type": "stream",
     "text": [
      "Enter a stringmadam\n",
      "madam is palindrome\n"
     ]
    }
   ],
   "source": [
    "#13\n",
    "def palindrome(s):\n",
    "    if s==s[::-1]:\n",
    "        print(s,\"is palindrome\")\n",
    "    else:\n",
    "        print(s,\"is not palindrome\")\n",
    "        \n",
    "s=input(\"Enter a string\")\n",
    "palindrome(s)"
   ]
  },
  {
   "cell_type": "code",
   "execution_count": 6,
   "id": "ea9ffa49",
   "metadata": {},
   "outputs": [
    {
     "name": "stdout",
     "output_type": "stream",
     "text": [
      "Input length of shorter triangle :\n",
      "ab :3\n",
      "bc :4\n",
      "The lenght of the hypotenuse is :  5.0\n"
     ]
    }
   ],
   "source": [
    "#14\n",
    "from math import sqrt,pow\n",
    "def right_angle():\n",
    "    print(\"Input length of shorter triangle :\")\n",
    "    ab= float(input(\"ab :\"))\n",
    "    bc=float(input(\"bc :\"))\n",
    "    ca= sqrt(pow(ab,2)+pow(bc,2))\n",
    "    print(\"The lenght of the hypotenuse is : \",ca)\n",
    "right_angle()\n",
    "   "
   ]
  },
  {
   "cell_type": "code",
   "execution_count": 8,
   "id": "b44a214e",
   "metadata": {},
   "outputs": [
    {
     "name": "stdout",
     "output_type": "stream",
     "text": [
      "Enter a string : radar\n",
      "{'r': 2, 'a': 2, 'd': 1}\n"
     ]
    }
   ],
   "source": [
    "#15\n",
    "def count_frequency(string):\n",
    "    dict={}\n",
    "    for i in string:\n",
    "        if i in dict:\n",
    "            dict[i]+=1\n",
    "        else:\n",
    "            dict[i]=1\n",
    "    print(dict)\n",
    "string=input(\"Enter a string : \")\n",
    "count_frequency(string)\n"
   ]
  },
  {
   "cell_type": "code",
   "execution_count": null,
   "id": "41418a20",
   "metadata": {},
   "outputs": [],
   "source": []
  }
 ],
 "metadata": {
  "kernelspec": {
   "display_name": "Python 3 (ipykernel)",
   "language": "python",
   "name": "python3"
  },
  "language_info": {
   "codemirror_mode": {
    "name": "ipython",
    "version": 3
   },
   "file_extension": ".py",
   "mimetype": "text/x-python",
   "name": "python",
   "nbconvert_exporter": "python",
   "pygments_lexer": "ipython3",
   "version": "3.11.5"
  }
 },
 "nbformat": 4,
 "nbformat_minor": 5
}
