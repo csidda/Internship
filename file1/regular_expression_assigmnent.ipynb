{
 "cells": [
  {
   "cell_type": "markdown",
   "id": "5f4e4b86",
   "metadata": {},
   "source": [
    "# Regular Expressions"
   ]
  },
  {
   "cell_type": "markdown",
   "id": "02d79932",
   "metadata": {},
   "source": [
    "Q1. Write a python program to replace all occurances of space, comma, or dot with a colon"
   ]
  },
  {
   "cell_type": "code",
   "execution_count": 273,
   "id": "733ce30b",
   "metadata": {},
   "outputs": [
    {
     "name": "stdout",
     "output_type": "stream",
     "text": [
      "Python:Exercises::PHP:exercises:\n"
     ]
    }
   ],
   "source": [
    "import re\n",
    "def func():\n",
    "    Sample_text = 'Python Exercises, PHP exercises.'\n",
    "    pattern=\"[\\s|,|.]\"\n",
    "    result=re.sub(pattern,\":\",Sample_text)\n",
    "    print(result)\n",
    "    \n",
    "func()"
   ]
  },
  {
   "cell_type": "markdown",
   "id": "9187d185",
   "metadata": {},
   "source": [
    "Q2. Create a dataframe using the dictionary below and remove everything(commas(,),!,XXXX,;,etc.) from the columns expect words"
   ]
  },
  {
   "cell_type": "code",
   "execution_count": 274,
   "id": "15a12389",
   "metadata": {},
   "outputs": [
    {
     "data": {
      "text/html": [
       "<div>\n",
       "<style scoped>\n",
       "    .dataframe tbody tr th:only-of-type {\n",
       "        vertical-align: middle;\n",
       "    }\n",
       "\n",
       "    .dataframe tbody tr th {\n",
       "        vertical-align: top;\n",
       "    }\n",
       "\n",
       "    .dataframe thead th {\n",
       "        text-align: right;\n",
       "    }\n",
       "</style>\n",
       "<table border=\"1\" class=\"dataframe\">\n",
       "  <thead>\n",
       "    <tr style=\"text-align: right;\">\n",
       "      <th></th>\n",
       "      <th>SUMMARY</th>\n",
       "    </tr>\n",
       "  </thead>\n",
       "  <tbody>\n",
       "    <tr>\n",
       "      <th>0</th>\n",
       "      <td>hello world</td>\n",
       "    </tr>\n",
       "    <tr>\n",
       "      <th>1</th>\n",
       "      <td>test</td>\n",
       "    </tr>\n",
       "    <tr>\n",
       "      <th>2</th>\n",
       "      <td>four five six</td>\n",
       "    </tr>\n",
       "  </tbody>\n",
       "</table>\n",
       "</div>"
      ],
      "text/plain": [
       "         SUMMARY\n",
       "0    hello world\n",
       "1           test\n",
       "2  four five six"
      ]
     },
     "execution_count": 274,
     "metadata": {},
     "output_type": "execute_result"
    }
   ],
   "source": [
    "import pandas as pd\n",
    "Dictionary = {'SUMMARY':['hello, world!', 'XXXXX test', '123four, five:; six...']}\n",
    "df=pd.DataFrame(Dictionary)\n",
    "# To remove everything from the columns expect words --- we use replace method \n",
    "pattern=\"[^a-zA-Z\\s]|X+\"\n",
    "df['SUMMARY']=df['SUMMARY'].str.replace(pattern,\"\",regex=True)\n",
    "df"
   ]
  },
  {
   "cell_type": "markdown",
   "id": "a7918cca",
   "metadata": {},
   "source": [
    "Q3. Create a function in python to find all words that are at least 4 characters long in a string. The use of the re.compile method if mandatory"
   ]
  },
  {
   "cell_type": "code",
   "execution_count": 275,
   "id": "5b9dad9d",
   "metadata": {},
   "outputs": [
    {
     "name": "stdout",
     "output_type": "stream",
     "text": [
      "Practice\n",
      "yoga\n",
      "daily\n",
      "good\n",
      "mental\n",
      "physical\n",
      "health\n"
     ]
    }
   ],
   "source": [
    "def words():\n",
    "    string = \"Practice yoga daily for good  mental and physical health\"\n",
    "    pattern=re.compile(r\"(\\w{4,})\")\n",
    "    for word in  pattern.finditer(string):\n",
    "        print(word.group())\n",
    "    \n",
    "words()"
   ]
  },
  {
   "cell_type": "markdown",
   "id": "e0aed362",
   "metadata": {},
   "source": [
    "Q4. Create a function in python to find all three, four, five character words in a string. The use of the re.compile() method is mandatory"
   ]
  },
  {
   "cell_type": "code",
   "execution_count": 276,
   "id": "958d7abf",
   "metadata": {},
   "outputs": [
    {
     "name": "stdout",
     "output_type": "stream",
     "text": [
      "['Data', 'and', 'part', 'You', 'can', 'solve', 'any', 'using', 'tools', 'and', 'techs']\n"
     ]
    }
   ],
   "source": [
    "def find_characters():\n",
    "    text = \"Data Science is a stream and it is part of AI. You can solve any complex problems using datascience tools and techs\"\n",
    "    pattern = re.compile(r\"\\b\\w{3}\\b|\\b\\w{4}\\b|\\b\\w{5}\\b\")\n",
    "    result = re.findall(pattern,text)\n",
    "    print(result)\n",
    "    \n",
    "find_characters()"
   ]
  },
  {
   "cell_type": "markdown",
   "id": "b2cc3efd",
   "metadata": {},
   "source": [
    "Q5. Create a function in python to remove the parenthesis in a list of strings. The use of re.compile() method is mandatory."
   ]
  },
  {
   "cell_type": "code",
   "execution_count": 277,
   "id": "9eba81e7",
   "metadata": {},
   "outputs": [
    {
     "name": "stdout",
     "output_type": "stream",
     "text": [
      "example.com\n",
      "hr@fliprobo.com\n",
      "github.com\n",
      "Hello Data Science world\n",
      "Data Scientist\n"
     ]
    }
   ],
   "source": [
    "def remove_parenthesis(sample_text):\n",
    "    pattern=re.compile(r\"[(|)]\")\n",
    "    for i in sample_text:\n",
    "        res=re.sub(pattern,\"\",i)\n",
    "        print(res)\n",
    "    \n",
    "sample_text = [\"example(.com)\", \"hr@fliprobo(.com)\", \"github(.com)\", \"Hello (Data Science world)\",\"Data (Scientist)\"]\n",
    "remove_parenthesis(sample_text)"
   ]
  },
  {
   "cell_type": "markdown",
   "id": "899a34c3",
   "metadata": {},
   "source": [
    "Q6. Write a python program to remove the parenthesis area from the text stored in the text file using regular expression."
   ]
  },
  {
   "cell_type": "code",
   "execution_count": 311,
   "id": "168a2715",
   "metadata": {},
   "outputs": [],
   "source": [
    "def remove_parenthesis():\n",
    "    with open('sample_text.txt','r') as file:\n",
    "        text= file.read()\n",
    "        pattern=r\"\\([^()]*\\)\"\n",
    "        remove = re.sub(pattern,\"\",text)\n",
    "    with open('sample_text.txt','w') as file:\n",
    "        file.write(remove)\n",
    "        \n",
    "remove_parenthesis()\n",
    "\n"
   ]
  },
  {
   "cell_type": "markdown",
   "id": "28679f8a",
   "metadata": {},
   "source": [
    "Q7. Write a regular expression in python to split a string into uppercase letters"
   ]
  },
  {
   "cell_type": "code",
   "execution_count": 279,
   "id": "33fad0c1",
   "metadata": {},
   "outputs": [
    {
     "name": "stdout",
     "output_type": "stream",
     "text": [
      "['Importance', 'Of', 'Regular', 'Expression', 'In', 'Python']\n"
     ]
    }
   ],
   "source": [
    "def uppercase_letters():\n",
    "    sample_text=\"ImportanceOfRegularExpressionInPython\"\n",
    "    pattern=r\"[A-Z][a-z]*\"\n",
    "    upper_case = re.findall(pattern,sample_text)\n",
    "    return upper_case\n",
    "upper_case=uppercase_letters()\n",
    "print(upper_case)"
   ]
  },
  {
   "cell_type": "markdown",
   "id": "810ab9ea",
   "metadata": {},
   "source": [
    "Q8. Create a function in python to insert sapces between words starting with numbers"
   ]
  },
  {
   "cell_type": "code",
   "execution_count": 280,
   "id": "cd176659",
   "metadata": {},
   "outputs": [
    {
     "name": "stdout",
     "output_type": "stream",
     "text": [
      "RegularExpression 1IsAn 2ImportantTopic 3Inpython \n"
     ]
    }
   ],
   "source": [
    "def spaces_between_words():\n",
    "    sample_text=\"RegularExpression1IsAn2ImportantTopic3Inpython\"\n",
    "    pattern=r\"([A-Z][A-Za-z]+)\"\n",
    "    result=re.sub(pattern,r\"\\1 \",sample_text)\n",
    "    print(result)\n",
    "spaces_between_words()"
   ]
  },
  {
   "cell_type": "markdown",
   "id": "769bfbef",
   "metadata": {},
   "source": [
    "Q9. Create a function in python to insert sapaces between words starting with capital letters or with numbers."
   ]
  },
  {
   "cell_type": "code",
   "execution_count": 281,
   "id": "22f73c0f",
   "metadata": {},
   "outputs": [
    {
     "name": "stdout",
     "output_type": "stream",
     "text": [
      " RegularExpression 1 IsAn 2 ImportantTopic 3 InPython \n"
     ]
    }
   ],
   "source": [
    "def spaces_between_words_number():\n",
    "    sample_text = \"RegularExpression1IsAn2ImportantTopic3InPython\"\n",
    "    pattern = r\"([A-Z][A-Za-z]+)\"\n",
    "    sample_result = re.sub(pattern,r\" \\1 \",sample_text)\n",
    "    print(sample_result)\n",
    "spaces_between_words_number()"
   ]
  },
  {
   "cell_type": "markdown",
   "id": "8e620ab2",
   "metadata": {},
   "source": [
    "Q10. Use the github link below to read the data and create a dataframe. After creating the dataframe extract the first 6 letters of each country and store in the dataframeunder a new column called first_five_letters"
   ]
  },
  {
   "cell_type": "code",
   "execution_count": 282,
   "id": "ae6e5f4f",
   "metadata": {},
   "outputs": [
    {
     "data": {
      "text/html": [
       "<div>\n",
       "<style scoped>\n",
       "    .dataframe tbody tr th:only-of-type {\n",
       "        vertical-align: middle;\n",
       "    }\n",
       "\n",
       "    .dataframe tbody tr th {\n",
       "        vertical-align: top;\n",
       "    }\n",
       "\n",
       "    .dataframe thead th {\n",
       "        text-align: right;\n",
       "    }\n",
       "</style>\n",
       "<table border=\"1\" class=\"dataframe\">\n",
       "  <thead>\n",
       "    <tr style=\"text-align: right;\">\n",
       "      <th></th>\n",
       "      <th>Country</th>\n",
       "      <th>Region</th>\n",
       "      <th>Happiness Rank</th>\n",
       "      <th>Happiness Score</th>\n",
       "      <th>Standard Error</th>\n",
       "      <th>Economy (GDP per Capita)</th>\n",
       "      <th>Family</th>\n",
       "      <th>Health (Life Expectancy)</th>\n",
       "      <th>Freedom</th>\n",
       "      <th>Trust (Government Corruption)</th>\n",
       "      <th>Generosity</th>\n",
       "      <th>Dystopia Residual</th>\n",
       "      <th>first_five_letters</th>\n",
       "    </tr>\n",
       "  </thead>\n",
       "  <tbody>\n",
       "    <tr>\n",
       "      <th>0</th>\n",
       "      <td>Switzerland</td>\n",
       "      <td>Western Europe</td>\n",
       "      <td>1</td>\n",
       "      <td>7.587</td>\n",
       "      <td>0.03411</td>\n",
       "      <td>1.39651</td>\n",
       "      <td>1.34951</td>\n",
       "      <td>0.94143</td>\n",
       "      <td>0.66557</td>\n",
       "      <td>0.41978</td>\n",
       "      <td>0.29678</td>\n",
       "      <td>2.51738</td>\n",
       "      <td>Switze</td>\n",
       "    </tr>\n",
       "    <tr>\n",
       "      <th>1</th>\n",
       "      <td>Iceland</td>\n",
       "      <td>Western Europe</td>\n",
       "      <td>2</td>\n",
       "      <td>7.561</td>\n",
       "      <td>0.04884</td>\n",
       "      <td>1.30232</td>\n",
       "      <td>1.40223</td>\n",
       "      <td>0.94784</td>\n",
       "      <td>0.62877</td>\n",
       "      <td>0.14145</td>\n",
       "      <td>0.43630</td>\n",
       "      <td>2.70201</td>\n",
       "      <td>Icelan</td>\n",
       "    </tr>\n",
       "    <tr>\n",
       "      <th>2</th>\n",
       "      <td>Denmark</td>\n",
       "      <td>Western Europe</td>\n",
       "      <td>3</td>\n",
       "      <td>7.527</td>\n",
       "      <td>0.03328</td>\n",
       "      <td>1.32548</td>\n",
       "      <td>1.36058</td>\n",
       "      <td>0.87464</td>\n",
       "      <td>0.64938</td>\n",
       "      <td>0.48357</td>\n",
       "      <td>0.34139</td>\n",
       "      <td>2.49204</td>\n",
       "      <td>Denmar</td>\n",
       "    </tr>\n",
       "    <tr>\n",
       "      <th>3</th>\n",
       "      <td>Norway</td>\n",
       "      <td>Western Europe</td>\n",
       "      <td>4</td>\n",
       "      <td>7.522</td>\n",
       "      <td>0.03880</td>\n",
       "      <td>1.45900</td>\n",
       "      <td>1.33095</td>\n",
       "      <td>0.88521</td>\n",
       "      <td>0.66973</td>\n",
       "      <td>0.36503</td>\n",
       "      <td>0.34699</td>\n",
       "      <td>2.46531</td>\n",
       "      <td>Norway</td>\n",
       "    </tr>\n",
       "    <tr>\n",
       "      <th>4</th>\n",
       "      <td>Canada</td>\n",
       "      <td>North America</td>\n",
       "      <td>5</td>\n",
       "      <td>7.427</td>\n",
       "      <td>0.03553</td>\n",
       "      <td>1.32629</td>\n",
       "      <td>1.32261</td>\n",
       "      <td>0.90563</td>\n",
       "      <td>0.63297</td>\n",
       "      <td>0.32957</td>\n",
       "      <td>0.45811</td>\n",
       "      <td>2.45176</td>\n",
       "      <td>Canada</td>\n",
       "    </tr>\n",
       "    <tr>\n",
       "      <th>...</th>\n",
       "      <td>...</td>\n",
       "      <td>...</td>\n",
       "      <td>...</td>\n",
       "      <td>...</td>\n",
       "      <td>...</td>\n",
       "      <td>...</td>\n",
       "      <td>...</td>\n",
       "      <td>...</td>\n",
       "      <td>...</td>\n",
       "      <td>...</td>\n",
       "      <td>...</td>\n",
       "      <td>...</td>\n",
       "      <td>...</td>\n",
       "    </tr>\n",
       "    <tr>\n",
       "      <th>153</th>\n",
       "      <td>Rwanda</td>\n",
       "      <td>Sub-Saharan Africa</td>\n",
       "      <td>154</td>\n",
       "      <td>3.465</td>\n",
       "      <td>0.03464</td>\n",
       "      <td>0.22208</td>\n",
       "      <td>0.77370</td>\n",
       "      <td>0.42864</td>\n",
       "      <td>0.59201</td>\n",
       "      <td>0.55191</td>\n",
       "      <td>0.22628</td>\n",
       "      <td>0.67042</td>\n",
       "      <td>Rwanda</td>\n",
       "    </tr>\n",
       "    <tr>\n",
       "      <th>154</th>\n",
       "      <td>Benin</td>\n",
       "      <td>Sub-Saharan Africa</td>\n",
       "      <td>155</td>\n",
       "      <td>3.340</td>\n",
       "      <td>0.03656</td>\n",
       "      <td>0.28665</td>\n",
       "      <td>0.35386</td>\n",
       "      <td>0.31910</td>\n",
       "      <td>0.48450</td>\n",
       "      <td>0.08010</td>\n",
       "      <td>0.18260</td>\n",
       "      <td>1.63328</td>\n",
       "      <td>Benin</td>\n",
       "    </tr>\n",
       "    <tr>\n",
       "      <th>155</th>\n",
       "      <td>Syria</td>\n",
       "      <td>Middle East and Northern Africa</td>\n",
       "      <td>156</td>\n",
       "      <td>3.006</td>\n",
       "      <td>0.05015</td>\n",
       "      <td>0.66320</td>\n",
       "      <td>0.47489</td>\n",
       "      <td>0.72193</td>\n",
       "      <td>0.15684</td>\n",
       "      <td>0.18906</td>\n",
       "      <td>0.47179</td>\n",
       "      <td>0.32858</td>\n",
       "      <td>Syria</td>\n",
       "    </tr>\n",
       "    <tr>\n",
       "      <th>156</th>\n",
       "      <td>Burundi</td>\n",
       "      <td>Sub-Saharan Africa</td>\n",
       "      <td>157</td>\n",
       "      <td>2.905</td>\n",
       "      <td>0.08658</td>\n",
       "      <td>0.01530</td>\n",
       "      <td>0.41587</td>\n",
       "      <td>0.22396</td>\n",
       "      <td>0.11850</td>\n",
       "      <td>0.10062</td>\n",
       "      <td>0.19727</td>\n",
       "      <td>1.83302</td>\n",
       "      <td>Burund</td>\n",
       "    </tr>\n",
       "    <tr>\n",
       "      <th>157</th>\n",
       "      <td>Togo</td>\n",
       "      <td>Sub-Saharan Africa</td>\n",
       "      <td>158</td>\n",
       "      <td>2.839</td>\n",
       "      <td>0.06727</td>\n",
       "      <td>0.20868</td>\n",
       "      <td>0.13995</td>\n",
       "      <td>0.28443</td>\n",
       "      <td>0.36453</td>\n",
       "      <td>0.10731</td>\n",
       "      <td>0.16681</td>\n",
       "      <td>1.56726</td>\n",
       "      <td>Togo</td>\n",
       "    </tr>\n",
       "  </tbody>\n",
       "</table>\n",
       "<p>158 rows × 13 columns</p>\n",
       "</div>"
      ],
      "text/plain": [
       "         Country                           Region  Happiness Rank  \\\n",
       "0    Switzerland                   Western Europe               1   \n",
       "1        Iceland                   Western Europe               2   \n",
       "2        Denmark                   Western Europe               3   \n",
       "3         Norway                   Western Europe               4   \n",
       "4         Canada                    North America               5   \n",
       "..           ...                              ...             ...   \n",
       "153       Rwanda               Sub-Saharan Africa             154   \n",
       "154        Benin               Sub-Saharan Africa             155   \n",
       "155        Syria  Middle East and Northern Africa             156   \n",
       "156      Burundi               Sub-Saharan Africa             157   \n",
       "157         Togo               Sub-Saharan Africa             158   \n",
       "\n",
       "     Happiness Score  Standard Error  Economy (GDP per Capita)   Family  \\\n",
       "0              7.587         0.03411                   1.39651  1.34951   \n",
       "1              7.561         0.04884                   1.30232  1.40223   \n",
       "2              7.527         0.03328                   1.32548  1.36058   \n",
       "3              7.522         0.03880                   1.45900  1.33095   \n",
       "4              7.427         0.03553                   1.32629  1.32261   \n",
       "..               ...             ...                       ...      ...   \n",
       "153            3.465         0.03464                   0.22208  0.77370   \n",
       "154            3.340         0.03656                   0.28665  0.35386   \n",
       "155            3.006         0.05015                   0.66320  0.47489   \n",
       "156            2.905         0.08658                   0.01530  0.41587   \n",
       "157            2.839         0.06727                   0.20868  0.13995   \n",
       "\n",
       "     Health (Life Expectancy)  Freedom  Trust (Government Corruption)  \\\n",
       "0                     0.94143  0.66557                        0.41978   \n",
       "1                     0.94784  0.62877                        0.14145   \n",
       "2                     0.87464  0.64938                        0.48357   \n",
       "3                     0.88521  0.66973                        0.36503   \n",
       "4                     0.90563  0.63297                        0.32957   \n",
       "..                        ...      ...                            ...   \n",
       "153                   0.42864  0.59201                        0.55191   \n",
       "154                   0.31910  0.48450                        0.08010   \n",
       "155                   0.72193  0.15684                        0.18906   \n",
       "156                   0.22396  0.11850                        0.10062   \n",
       "157                   0.28443  0.36453                        0.10731   \n",
       "\n",
       "     Generosity  Dystopia Residual first_five_letters  \n",
       "0       0.29678            2.51738             Switze  \n",
       "1       0.43630            2.70201             Icelan  \n",
       "2       0.34139            2.49204             Denmar  \n",
       "3       0.34699            2.46531             Norway  \n",
       "4       0.45811            2.45176             Canada  \n",
       "..          ...                ...                ...  \n",
       "153     0.22628            0.67042             Rwanda  \n",
       "154     0.18260            1.63328              Benin  \n",
       "155     0.47179            0.32858              Syria  \n",
       "156     0.19727            1.83302             Burund  \n",
       "157     0.16681            1.56726               Togo  \n",
       "\n",
       "[158 rows x 13 columns]"
      ]
     },
     "execution_count": 282,
     "metadata": {},
     "output_type": "execute_result"
    }
   ],
   "source": [
    "df=pd.read_csv(r\"https://raw.githubusercontent.com/dsrscientist/DSData/master/happiness_score_dataset.csv\")\n",
    "pattern = \"(\\w{1,6})\"\n",
    "df[\"first_five_letters\"]=df['Country'].str.extract(pattern)\n",
    "df\n"
   ]
  },
  {
   "cell_type": "markdown",
   "id": "46ed11f5",
   "metadata": {},
   "source": [
    "Q11. Write a python program to match a string that contains only upper and lowercase letters, numbers, and underscore."
   ]
  },
  {
   "cell_type": "code",
   "execution_count": 283,
   "id": "0f451412",
   "metadata": {},
   "outputs": [
    {
     "name": "stdout",
     "output_type": "stream",
     "text": [
      "Enter a string : Abcd\n",
      "String matches a pattern\n"
     ]
    }
   ],
   "source": [
    "def match_a_string(string):\n",
    "    pattern = r\"^[\\w]+$\"\n",
    "    if re.match(pattern,string):\n",
    "        print(\"String matches a pattern\")\n",
    "    else:\n",
    "        print(\"String does not match a pattern\")\n",
    "string=input(\"Enter a string : \")\n",
    "match_a_string(string)\n"
   ]
  },
  {
   "cell_type": "markdown",
   "id": "8508d181",
   "metadata": {},
   "source": [
    "Q12. Write a python program where a string will start with a specific number."
   ]
  },
  {
   "cell_type": "code",
   "execution_count": 284,
   "id": "14f06423",
   "metadata": {},
   "outputs": [
    {
     "name": "stdout",
     "output_type": "stream",
     "text": [
      "Enter a string : 123Abc\n",
      "String starts with a number\n"
     ]
    }
   ],
   "source": [
    "def start_with_number(string):\n",
    "    pattern = r\"^[0-9]+\"\n",
    "    if re.match(pattern,string):\n",
    "        print(\"String starts with a number\")\n",
    "    else:\n",
    "        print(\"String won't start with a number\")\n",
    "\n",
    "string=input(\"Enter a string : \")\n",
    "start_with_number(string)"
   ]
  },
  {
   "cell_type": "markdown",
   "id": "094e70ce",
   "metadata": {},
   "source": [
    "Q13. Write a python program to remove leading zeros from an IP address."
   ]
  },
  {
   "cell_type": "code",
   "execution_count": 285,
   "id": "aaa3c294",
   "metadata": {},
   "outputs": [
    {
     "name": "stdout",
     "output_type": "stream",
     "text": [
      "1.206.80.800\n"
     ]
    }
   ],
   "source": [
    "def remove_leading_zeros(ip_address):\n",
    "    pattern=r\"\\b0+(\\d+)\"\n",
    "    print(re.sub(pattern,r\"\\1\",ip_address))\n",
    "ip_address=\"01.206.080.800\"\n",
    "remove_leading_zeros(ip_address)"
   ]
  },
  {
   "cell_type": "markdown",
   "id": "a89e1923",
   "metadata": {},
   "source": [
    "Q14. Write a regular expression in python to match a date string in the form of month name followed by day number and year stored in a text file"
   ]
  },
  {
   "cell_type": "code",
   "execution_count": 286,
   "id": "b1b8b2be",
   "metadata": {},
   "outputs": [
    {
     "name": "stdout",
     "output_type": "stream",
     "text": [
      "['August 15th 1947']\n"
     ]
    }
   ],
   "source": [
    "def matchdate():\n",
    "    with open(\"match_date.txt\",\"r\") as file:\n",
    "        date = file.read()\n",
    "        pattern =\"[A-za-z]+\\s\\d{1,2}th\\s\\d{4}\"\n",
    "        extract_date=re.findall(pattern,date)\n",
    "        print(extract_date)\n",
    "\n",
    "matchdate()"
   ]
  },
  {
   "cell_type": "markdown",
   "id": "cadac157",
   "metadata": {},
   "source": [
    "Q15. Write a python program to search some literals strings in a string"
   ]
  },
  {
   "cell_type": "code",
   "execution_count": 287,
   "id": "4bcedc01",
   "metadata": {},
   "outputs": [
    {
     "name": "stdout",
     "output_type": "stream",
     "text": [
      "The literal string is : fox\n",
      "The literal string is : dog\n",
      "There is no literal string in a string\n"
     ]
    }
   ],
   "source": [
    " def search_literals():\n",
    "    Sample_text=\"The quick brown fox jumps over the lazy dog\"\n",
    "    pattern=['fox','dog','horse']\n",
    "    for words in pattern:\n",
    "        if re.search(words,Sample_text):\n",
    "            print(\"The literal string is :\",words)\n",
    "        else:\n",
    "            print(\"There is no literal string in a string\")\n",
    "\n",
    "search_literals()           "
   ]
  },
  {
   "cell_type": "markdown",
   "id": "87676688",
   "metadata": {},
   "source": [
    "Q16. Write a python program to search a literals string in a string and also find the location within the original string where the pattern occurs"
   ]
  },
  {
   "cell_type": "code",
   "execution_count": 288,
   "id": "cabffed9",
   "metadata": {},
   "outputs": [
    {
     "name": "stdout",
     "output_type": "stream",
     "text": [
      "Found : fox \n",
      "At location: (16, 19)\n"
     ]
    }
   ],
   "source": [
    "def search_literals_location(string):\n",
    "    pattern = \"fox\"\n",
    "    result=re.search(pattern,string)\n",
    "    print(\"Found :\",pattern,\"\\nAt location:\",result.span())\n",
    "    \n",
    "string = \"The quick brown fox jumps over the lazy dog\"\n",
    "search_literals_location(string)\n",
    "    "
   ]
  },
  {
   "cell_type": "markdown",
   "id": "2514804e",
   "metadata": {},
   "source": [
    "Q17. Write a python program to find the substring with in a string."
   ]
  },
  {
   "cell_type": "code",
   "execution_count": 296,
   "id": "eb99f5ad",
   "metadata": {},
   "outputs": [
    {
     "name": "stdout",
     "output_type": "stream",
     "text": [
      "substring is  exercises\n",
      "substring is  exercises\n",
      "substring is  exercises\n"
     ]
    }
   ],
   "source": [
    "def substring():\n",
    "    string = 'Python exercises, PHP exercises, C# exercises'\n",
    "    pattern=\"exercises\"\n",
    "    for match in re.findall(pattern,string):\n",
    "        print(\"substring is \",match)\n",
    "        \n",
    "substring()"
   ]
  },
  {
   "cell_type": "markdown",
   "id": "7c7aa01f",
   "metadata": {},
   "source": [
    "Q18. Write a python program to find the occurence and position of the substring with in a string"
   ]
  },
  {
   "cell_type": "code",
   "execution_count": 297,
   "id": "655fd7b6",
   "metadata": {},
   "outputs": [
    {
     "name": "stdout",
     "output_type": "stream",
     "text": [
      "substring is exercises and postion is (7, 16)\n",
      "substring is exercises and postion is (22, 31)\n",
      "substring is exercises and postion is (36, 45)\n"
     ]
    }
   ],
   "source": [
    "def occurence_position():\n",
    "    string='Python exercises, PHP exercises, C# exercises'\n",
    "    pattern = \"exercises\"\n",
    "    for result in re.finditer(pattern,string):\n",
    "        print(\"substring is\",pattern,\"and postion is\",result.span())\n",
    "    \n",
    "occurence_position()"
   ]
  },
  {
   "cell_type": "markdown",
   "id": "0766952b",
   "metadata": {},
   "source": [
    "Q19. Write a python program to convert a date of yyyy-mm-dd to dd-mm-yyyy"
   ]
  },
  {
   "cell_type": "code",
   "execution_count": 298,
   "id": "eeda9bd3",
   "metadata": {},
   "outputs": [
    {
     "name": "stdout",
     "output_type": "stream",
     "text": [
      "30-12-2026\n"
     ]
    }
   ],
   "source": [
    "def convert_date():\n",
    "    date=\"2026-12-30\"\n",
    "    pattern=\"(\\d{4})-(\\d{1,2})-(\\d{1,2})\"\n",
    "    result=re.sub(pattern,\"\\\\3-\\\\2-\\\\1\",date)\n",
    "    print(result)\n",
    "\n",
    "convert_date()"
   ]
  },
  {
   "cell_type": "markdown",
   "id": "02041f2c",
   "metadata": {},
   "source": [
    "Q20. Create a function in python to find all decimal numbers with a precision of 1 or 2 in a string. The use of re.compile() method is mandatory."
   ]
  },
  {
   "cell_type": "code",
   "execution_count": 299,
   "id": "8413134e",
   "metadata": {},
   "outputs": [
    {
     "name": "stdout",
     "output_type": "stream",
     "text": [
      "['01.12', '145.8', '3.01', '27.25', '0.25']\n"
     ]
    }
   ],
   "source": [
    "def decimal_numbers(decimal_num):\n",
    "    pattern = re.compile(r\"\\b\\d+\\.\\d{1,2}\\b\")\n",
    "    decimal=re.findall(pattern,decimal_num)\n",
    "    print(decimal)\n",
    "    \n",
    "decimal_num = \"01.12 0132.123 2.31875 145.8 3.01 27.25 0.25\"\n",
    "decimal_numbers(decimal_num)"
   ]
  },
  {
   "cell_type": "markdown",
   "id": "bceb1d06",
   "metadata": {},
   "source": [
    "Q21. Write a python program to seperate and print the number and their position of a given string"
   ]
  },
  {
   "cell_type": "code",
   "execution_count": 300,
   "id": "8d3ad553",
   "metadata": {},
   "outputs": [
    {
     "name": "stdout",
     "output_type": "stream",
     "text": [
      "Number is : 947 , index position : 32\n",
      "Number is : 896 , index position : 37\n",
      "Number is : 926 , index position : 42\n",
      "Number is : 524 , index position : 47\n",
      "Number is : 734 , index position : 52\n",
      "Number is : 950 , index position : 57\n",
      "Number is : 642 , index position : 62\n"
     ]
    }
   ],
   "source": [
    "def number():\n",
    "    text = \"My marks in each semester are : 947, 896, 926, 524, 734, 950, 642\"\n",
    "    pattern = r\"\\d+\"\n",
    "    for i in re.finditer(pattern,text):\n",
    "        print(\"Number is :\",i.group(0),\", index position :\",i.start())\n",
    "number()"
   ]
  },
  {
   "cell_type": "markdown",
   "id": "884bc702",
   "metadata": {},
   "source": [
    "Q22. write a regular expression in python program to extract maximum/largest numeric value from a string"
   ]
  },
  {
   "cell_type": "code",
   "execution_count": 301,
   "id": "eea2222b",
   "metadata": {},
   "outputs": [
    {
     "name": "stdout",
     "output_type": "stream",
     "text": [
      "The largest numeric value from a string is : 950\n"
     ]
    }
   ],
   "source": [
    "def largest_numeric_value(sample_text):\n",
    "    pattern = \"\\d+\"\n",
    "    result=re.findall(pattern,sample_text)\n",
    "    print(\"The largest numeric value from a string is :\",max(result))\n",
    "    \n",
    "sample_text = \"My marks in each semester are : 947, 896, 926, 524, 734, 950, 642\"\n",
    "largest_numeric_value(sample_text)"
   ]
  },
  {
   "cell_type": "markdown",
   "id": "8a533aba",
   "metadata": {},
   "source": [
    "Q23. Create a function in python to insert sapces between words starting with capital letters"
   ]
  },
  {
   "cell_type": "code",
   "execution_count": 302,
   "id": "3b2fc09a",
   "metadata": {},
   "outputs": [
    {
     "name": "stdout",
     "output_type": "stream",
     "text": [
      " Regular Expression Is An Important Topic In Python\n"
     ]
    }
   ],
   "source": [
    "def insert_space():\n",
    "    sample_text = \"RegularExpressionIsAnImportantTopicInPython\"\n",
    "    pattern=r\"([A-Z]+)\"\n",
    "    result=re.sub(pattern,r\" \\1\",sample_text)\n",
    "    print(result)\n",
    "\n",
    "insert_space()"
   ]
  },
  {
   "cell_type": "markdown",
   "id": "b167716b",
   "metadata": {},
   "source": [
    "Q24. Python regex to find sequences of one upper case letter followed by lower case letters"
   ]
  },
  {
   "cell_type": "code",
   "execution_count": 303,
   "id": "21afc735",
   "metadata": {},
   "outputs": [
    {
     "name": "stdout",
     "output_type": "stream",
     "text": [
      "Enter textData\n",
      "Match found Data\n"
     ]
    }
   ],
   "source": [
    "def sequence(sample_text):\n",
    "    pattern = \"^[A-Z][a-z]+$\"\n",
    "    if (re.findall(pattern,sample_text)):\n",
    "        print(\"Match found\",sample_text)\n",
    "    else:\n",
    "        print(\"Match not found\",sample_text)\n",
    "\n",
    "sample_text = input(\"Enter text\")\n",
    "sequence(sample_text)"
   ]
  },
  {
   "cell_type": "markdown",
   "id": "93a57666",
   "metadata": {},
   "source": [
    "Q25. Write a python program to remove continuous duplicate words from sentence usin regular expression"
   ]
  },
  {
   "cell_type": "code",
   "execution_count": 304,
   "id": "400e794c",
   "metadata": {},
   "outputs": [
    {
     "name": "stdout",
     "output_type": "stream",
     "text": [
      "Hello hello world\n"
     ]
    }
   ],
   "source": [
    "def remove_duplicate(sentence):\n",
    "    pattern = r\"(\\b\\w+)(?:\\W+\\1\\b)+\"\n",
    "    result = re.sub(pattern,r\"\\1\",sentence)\n",
    "    return result\n",
    "\n",
    "sentence = \"Hello hello world world\"\n",
    "result = remove_duplicate(sentence)\n",
    "print(result)"
   ]
  },
  {
   "cell_type": "markdown",
   "id": "85174499",
   "metadata": {},
   "source": [
    "Q26. Write a python program using regex to accept string ending with alphanumeric character."
   ]
  },
  {
   "cell_type": "code",
   "execution_count": 305,
   "id": "f09313f6",
   "metadata": {},
   "outputs": [
    {
     "name": "stdout",
     "output_type": "stream",
     "text": [
      "Accept, String end with alpanumeric character\n"
     ]
    }
   ],
   "source": [
    "def alphanumeric():\n",
    "    sample_text = \"Abcd123\"\n",
    "    pattern=\"[a-zA-Z0-9]+$\"\n",
    "    result=re.search(pattern,sample_text)\n",
    "    if(result):\n",
    "        print(\"Accept, String end with alpanumeric character\")\n",
    "    else:\n",
    "        print(\"Don't accept, String does not end with alphanumeric character\")\n",
    "\n",
    "alphanumeric()"
   ]
  },
  {
   "cell_type": "markdown",
   "id": "2d3256f6",
   "metadata": {},
   "source": [
    "Q27. Write a python program using regex to extract the hash tags"
   ]
  },
  {
   "cell_type": "code",
   "execution_count": 306,
   "id": "b1260f28",
   "metadata": {},
   "outputs": [
    {
     "name": "stdout",
     "output_type": "stream",
     "text": [
      "['#Doltiwal', '#xyzabc', '#Demonetization']\n"
     ]
    }
   ],
   "source": [
    "def extract_hastags():\n",
    "    sample_text = \"\"\"RT @Kapil_kausik #Doltiwal I mean #xyzabc is \"hurt\" by #Demonetization as the same has rendered USELESS <ed><U+00BD><ed><U+00B1><U+0089> \"acquired funds\" No wo\"\"\"\n",
    "    pattern=r\"#[A-za-z]+\"\n",
    "    result=re.findall(pattern,sample_text)\n",
    "    print(result)\n",
    "    \n",
    "extract_hastags()"
   ]
  },
  {
   "cell_type": "markdown",
   "id": "edd580c5",
   "metadata": {},
   "source": [
    "Q28. Write a python program using regex to remove <U+...> like symbols "
   ]
  },
  {
   "cell_type": "code",
   "execution_count": 307,
   "id": "be318f51",
   "metadata": {},
   "outputs": [
    {
     "name": "stdout",
     "output_type": "stream",
     "text": [
      "@Jags123456 Bharat band on 28?? <ed><ed> Those who are protesting #Demonetization are all different party leaders\n"
     ]
    }
   ],
   "source": [
    "def remove_symbols():\n",
    "    sample_text=\"@Jags123456 Bharat band on 28?? <ed><U+00BD><ed><U+00B8><U+0082> Those who are protesting #Demonetization are all different party leaders\"\n",
    "    pattern = \"<U\\+[0-9A-Za-z]+>\"\n",
    "    result= re.sub(pattern,\"\",sample_text)\n",
    "    return result\n",
    "\n",
    "result = remove_symbols()\n",
    "print(result)"
   ]
  },
  {
   "cell_type": "markdown",
   "id": "cda07918",
   "metadata": {},
   "source": [
    "Q29. Write a python program to extract dates from the text stored in the text file"
   ]
  },
  {
   "cell_type": "code",
   "execution_count": 308,
   "id": "e2dba32c",
   "metadata": {},
   "outputs": [
    {
     "name": "stdout",
     "output_type": "stream",
     "text": [
      "['12-09-1992', '15-12-1999']\n"
     ]
    }
   ],
   "source": [
    "def extract_dates():\n",
    "    with open(\"date_file.txt\") as file:\n",
    "        text = file.read()\n",
    "        pattern=\"\\d{2}-\\d{2}-\\d{4}\"\n",
    "        date = re.findall(pattern,text)\n",
    "        print(date)\n",
    "        \n",
    "extract_dates()"
   ]
  },
  {
   "cell_type": "markdown",
   "id": "b7e4af62",
   "metadata": {},
   "source": [
    "Q30 Create a function in python to remove all words from a string of length between 2 and 4. The use of re.compile() method is mandatory"
   ]
  },
  {
   "cell_type": "code",
   "execution_count": 309,
   "id": "8de0bed1",
   "metadata": {},
   "outputs": [
    {
     "name": "stdout",
     "output_type": "stream",
     "text": [
      " following example creates  ArrayList  a capacity   elements. 4 elements   added   ArrayList   ArrayList  trimmed accordingly\n"
     ]
    }
   ],
   "source": [
    "def remove_words():\n",
    "    string = \"The following example creates an ArrayList with a capacity of 50 elements. 4 elements are then added to the ArrayList and the ArrayList is trimmed accordingly\"\n",
    "    pattern = re.compile(r\"\\b\\w{2,4}\\b\")\n",
    "    remove = re.sub(pattern,\"\",string)\n",
    "    print(remove)\n",
    "    \n",
    "remove_words()"
   ]
  },
  {
   "cell_type": "code",
   "execution_count": null,
   "id": "d15d90a1",
   "metadata": {},
   "outputs": [],
   "source": []
  }
 ],
 "metadata": {
  "kernelspec": {
   "display_name": "Python 3 (ipykernel)",
   "language": "python",
   "name": "python3"
  },
  "language_info": {
   "codemirror_mode": {
    "name": "ipython",
    "version": 3
   },
   "file_extension": ".py",
   "mimetype": "text/x-python",
   "name": "python",
   "nbconvert_exporter": "python",
   "pygments_lexer": "ipython3",
   "version": "3.11.5"
  }
 },
 "nbformat": 4,
 "nbformat_minor": 5
}
